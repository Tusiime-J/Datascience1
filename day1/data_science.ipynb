{
 "cells": [
  {
   "cell_type": "code",
   "execution_count": 15,
   "id": "52a65733",
   "metadata": {},
   "outputs": [
    {
     "name": "stdout",
     "output_type": "stream",
     "text": [
      "jonathan is a good boy\n"
     ]
    }
   ],
   "source": [
    "file = open(\"jona.txt\", \"r\")\n",
    "\n",
    "print(file.read())\n",
    "\n",
    "file.close()"
   ]
  },
  {
   "cell_type": "code",
   "execution_count": 21,
   "id": "01209397",
   "metadata": {},
   "outputs": [
    {
     "data": {
      "text/plain": [
       "19"
      ]
     },
     "execution_count": 21,
     "metadata": {},
     "output_type": "execute_result"
    }
   ],
   "source": [
    "#writing to a file\n",
    "file = open(\"jonah.txt\", \"w\")\n",
    "\n",
    "file.write(\"I dont know why. \\n \")"
   ]
  },
  {
   "cell_type": "code",
   "execution_count": 26,
   "id": "62e25b95",
   "metadata": {},
   "outputs": [
    {
     "name": "stdout",
     "output_type": "stream",
     "text": [
      "<built-in method read of _io.TextIOWrapper object at 0x0000021E852997E0>\n"
     ]
    }
   ],
   "source": [
    "#appending\n",
    "with open(\"jonah.txt\", \"a\") as file:\n",
    "    file.write(\"The name has changed. \\n\")\n",
    "    \n",
    "with open(\"jonah.txt\", \"r\") as file:\n",
    "    content = file.read\n",
    "    print(content)"
   ]
  }
 ],
 "metadata": {
  "kernelspec": {
   "display_name": "Python 3",
   "language": "python",
   "name": "python3"
  },
  "language_info": {
   "codemirror_mode": {
    "name": "ipython",
    "version": 3
   },
   "file_extension": ".py",
   "mimetype": "text/x-python",
   "name": "python",
   "nbconvert_exporter": "python",
   "pygments_lexer": "ipython3",
   "version": "3.13.3"
  }
 },
 "nbformat": 4,
 "nbformat_minor": 5
}
